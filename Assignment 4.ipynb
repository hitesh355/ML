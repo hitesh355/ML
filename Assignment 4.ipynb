{
 "cells": [
  {
   "cell_type": "markdown",
   "metadata": {},
   "source": [
    "1.1) Write a Python Program(with class concepts) to find the area of the triangle using the below\n",
    "formula.\n",
    "    area = (s*(s-a)*(s-b)*(s-c)) ** 0.5\n",
    "Function to take the length of the sides of triangle from user should be defined in the parent\n",
    "class and function to calculate the area should be defined in subclass."
   ]
  },
  {
   "cell_type": "code",
   "execution_count": 21,
   "metadata": {},
   "outputs": [
    {
     "name": "stdout",
     "output_type": "stream",
     "text": [
      "side of the triangle a:3\n",
      "side of the triangle b:4\n",
      "side of the triangle c:5\n",
      "child class\n",
      "Sides of the triangle are[3.0,4.0,5.0]\n",
      "725.6031973468695\n"
     ]
    }
   ],
   "source": [
    "s = (a + b + c)/2\n",
    "\n",
    "class Triangle:\n",
    "     def __init__(self,a,b,c):\n",
    "        self.a = a\n",
    "        self.b = b\n",
    "        self.c = c\n",
    "        print(\"Sides of the triangle are[\" + str(a) +\",\" + str(b) +\",\" + str(c) +\"]\")\n",
    "        \n",
    "class Calculation(Triangle):\n",
    "    def __init__(self,a,b,c):\n",
    "        print(\"child class\")\n",
    "        super(Calculation,self).__init__(a,b,c)\n",
    "    \n",
    "    \n",
    "    def area(self):\n",
    "        return(s*(s-self.a)*(s-self.b)*(s-self.c))**0.5\n",
    "        \n",
    "    \n",
    "a = float(input(\"side of the triangle a:\"))\n",
    "b = float(input(\"side of the triangle b:\"))\n",
    "c = float(input(\"side of the triangle c:\"))\n",
    "\n",
    "\n",
    "cal = Calculation(a,b,c)\n",
    "print(cal.area())\n",
    "\n",
    "\n",
    "        "
   ]
  },
  {
   "cell_type": "markdown",
   "metadata": {},
   "source": [
    "1.2)Write a function filter_long_words() that takes a list of words and an integer n and returns\n",
    "the list of words that are longer than n."
   ]
  },
  {
   "cell_type": "code",
   "execution_count": 23,
   "metadata": {},
   "outputs": [
    {
     "name": "stdout",
     "output_type": "stream",
     "text": [
      "['am', 'boy', 'girl']\n"
     ]
    }
   ],
   "source": [
    "from itertools import count \n",
    "  \n",
    "def longest_word(lst, K): \n",
    "    cnt = count() \n",
    "    return sorted(lst, key = lambda w : (len(w), next(cnt)),  \n",
    "                                        reverse = True)[:K] \n",
    "  \n",
    " \n",
    "lst = ['am', 'watermelon', 'girl', 'boy', 'colour'] \n",
    "K = 3\n",
    "print(longest_word(lst, K)) "
   ]
  },
  {
   "cell_type": "markdown",
   "metadata": {},
   "source": [
    "2.1)Write a program using function concept that maps list of words into a list of integers\n",
    "representing the lengths of the corresponding words."
   ]
  },
  {
   "cell_type": "code",
   "execution_count": 27,
   "metadata": {},
   "outputs": [
    {
     "name": "stdout",
     "output_type": "stream",
     "text": [
      "word length of each word in list is : [4, 1, 5, 3]\n"
     ]
    }
   ],
   "source": [
    "def word_length(word_list):\n",
    "    return list(map(lambda x:len(x),word_list))\n",
    "\n",
    "word_list =[\"what\",\"a\",\"sunny\",\"day\"]\n",
    "\n",
    "print(\"word length of each word in list is :\", str(word_length(word_list)))"
   ]
  },
  {
   "cell_type": "markdown",
   "metadata": {},
   "source": [
    "2.2) Write a Python function which takes a character (i.e. a string of length 1) and returns True if\n",
    "it is a vowel, False otherwise."
   ]
  },
  {
   "cell_type": "code",
   "execution_count": 12,
   "metadata": {},
   "outputs": [
    {
     "name": "stdout",
     "output_type": "stream",
     "text": [
      "Enter any letter :t\n",
      "The vowel is : False\n"
     ]
    }
   ],
   "source": [
    "def is_vowel(letter,vowel):\n",
    "    for v in vowel:\n",
    "        if letter == v:\n",
    "             return True\n",
    "        else:\n",
    "            return False\n",
    "letter = input(\"Enter any letter :\")\n",
    "vowel = \"aeiouAEIOU\"\n",
    "print(\"The vowel is :\", is_vowel(letter,vowel))\n",
    "\n"
   ]
  },
  {
   "cell_type": "code",
   "execution_count": 11,
   "metadata": {},
   "outputs": [],
   "source": []
  },
  {
   "cell_type": "code",
   "execution_count": 40,
   "metadata": {},
   "outputs": [
    {
     "data": {
      "text/plain": [
       "3.0"
      ]
     },
     "execution_count": 40,
     "metadata": {},
     "output_type": "execute_result"
    }
   ],
   "source": []
  },
  {
   "cell_type": "code",
   "execution_count": null,
   "metadata": {},
   "outputs": [],
   "source": []
  }
 ],
 "metadata": {
  "kernelspec": {
   "display_name": "Python 3",
   "language": "python",
   "name": "python3"
  },
  "language_info": {
   "codemirror_mode": {
    "name": "ipython",
    "version": 3
   },
   "file_extension": ".py",
   "mimetype": "text/x-python",
   "name": "python",
   "nbconvert_exporter": "python",
   "pygments_lexer": "ipython3",
   "version": "3.7.4"
  }
 },
 "nbformat": 4,
 "nbformat_minor": 2
}
